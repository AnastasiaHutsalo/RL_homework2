{
 "cells": [
  {
   "cell_type": "code",
   "execution_count": 2,
   "metadata": {},
   "outputs": [
    {
     "ename": "ModuleNotFoundError",
     "evalue": "No module named 'utils'",
     "output_type": "error",
     "traceback": [
      "\u001b[1;31m---------------------------------------------------------------------------\u001b[0m",
      "\u001b[1;31mModuleNotFoundError\u001b[0m                       Traceback (most recent call last)",
      "\u001b[1;32m<ipython-input-2-2b348813246f>\u001b[0m in \u001b[0;36m<module>\u001b[1;34m\u001b[0m\n\u001b[0;32m      1\u001b[0m \u001b[1;32mimport\u001b[0m \u001b[0mrandom\u001b[0m\u001b[1;33m\u001b[0m\u001b[1;33m\u001b[0m\u001b[0m\n\u001b[0;32m      2\u001b[0m \u001b[1;32mimport\u001b[0m \u001b[0mnumpy\u001b[0m \u001b[1;32mas\u001b[0m \u001b[0mnp\u001b[0m\u001b[1;33m\u001b[0m\u001b[1;33m\u001b[0m\u001b[0m\n\u001b[1;32m----> 3\u001b[1;33m \u001b[1;32mfrom\u001b[0m \u001b[0mutils\u001b[0m\u001b[1;33m.\u001b[0m\u001b[0mtest_env\u001b[0m \u001b[1;32mimport\u001b[0m \u001b[0mEnvTest\u001b[0m\u001b[1;33m\u001b[0m\u001b[1;33m\u001b[0m\u001b[0m\n\u001b[0m\u001b[0;32m      4\u001b[0m \u001b[1;33m\u001b[0m\u001b[0m\n\u001b[0;32m      5\u001b[0m \u001b[1;33m\u001b[0m\u001b[0m\n",
      "\u001b[1;31mModuleNotFoundError\u001b[0m: No module named 'utils'"
     ]
    }
   ],
   "source": [
    "import random\n",
    "import numpy as np\n",
    "from utils.test_env import EnvTest\n",
    "\n",
    "\n",
    "class LinearSchedule(object):\n",
    "    \n",
    "    def __init__(self, eps_begin, eps_end, nsteps):\n",
    "        \n",
    "        self.epsilon = eps_begin\n",
    "        self.eps_begin = eps_begin\n",
    "        self.eps_end = eps_end\n",
    "        self.nsteps = nsteps\n",
    "\n",
    "    def update(self, t: int):\n",
    "        \n",
    "        rng_eps = np.linspace(self.eps_begin, self.eps_end, int(self.nsteps+1))\n",
    "    \n",
    "        if t >= self.nsteps:\n",
    "            self.epsilon = rng_eps[int(self.nsteps)]\n",
    "        else:\n",
    "            self.epsilon = rng_eps[t]\n",
    "            \n",
    "\n",
    "\n",
    "class LinearExploration(LinearSchedule):\n",
    "    def __init__(self, env, eps_begin, eps_end, nsteps):\n",
    "        self.env = env\n",
    "        super(LinearExploration, self).__init__(eps_begin, eps_end, nsteps)\n",
    "\n",
    "        \n",
    "    def get_action(self, best_action: int) -> int:\n",
    "\n",
    "        prob = np.random.rand()\n",
    "        if prob <= self.epsilon:\n",
    "            action = random.randint(0,self.env.num_actions()-1)\n",
    "            return action\n",
    "        else:\n",
    "            return best_action\n",
    "\n",
    "\n",
    "def test1():\n",
    "    env = EnvTest((5, 5, 1))\n",
    "    exp_strat = LinearExploration(env, 1, 0, 10)\n",
    "\n",
    "    found_diff = False\n",
    "    for i in range(10):\n",
    "        rnd_act = exp_strat.get_action(0)\n",
    "        if rnd_act != 0 and rnd_act is not None:\n",
    "            found_diff = True\n",
    "\n",
    "    assert found_diff, \"Test 1 failed.\"\n",
    "    print(\"Test1: ok\")\n",
    "\n",
    "\n",
    "def test2():\n",
    "    env = EnvTest((5, 5, 1))\n",
    "    exp_strat = LinearExploration(env, 1, 0, 10)\n",
    "    exp_strat.update(5)\n",
    "    assert exp_strat.epsilon == 0.5, \"Test 2 failed\"\n",
    "    print(\"Test2: ok\")\n",
    "\n",
    "\n",
    "def test3():\n",
    "    env = EnvTest((5, 5, 1))\n",
    "    exp_strat = LinearExploration(env, 1, 0.5, 10)\n",
    "    exp_strat.update(20)\n",
    "    assert exp_strat.epsilon == 0.5, \"Test 3 failed\"\n",
    "    print(\"Test3: ok\")\n",
    "\n",
    "\n",
    "def your_test():\n",
    "    \"\"\"\n",
    "    Use this to implement your own tests if you'd like (not required)\n",
    "    \"\"\"\n",
    "    pass\n",
    "\n",
    "\n",
    "if __name__ == \"__main__\":\n",
    "    test1()\n",
    "    test2()\n",
    "    test3()\n",
    "    your_test()\n"
   ]
  },
  {
   "cell_type": "code",
   "execution_count": null,
   "metadata": {
    "collapsed": true
   },
   "outputs": [],
   "source": []
  }
 ],
 "metadata": {
  "kernelspec": {
   "display_name": "Python 3",
   "language": "python",
   "name": "python3"
  },
  "language_info": {
   "codemirror_mode": {
    "name": "ipython",
    "version": 3
   },
   "file_extension": ".py",
   "mimetype": "text/x-python",
   "name": "python",
   "nbconvert_exporter": "python",
   "pygments_lexer": "ipython3",
   "version": "3.9.13"
  }
 },
 "nbformat": 4,
 "nbformat_minor": 2
}
